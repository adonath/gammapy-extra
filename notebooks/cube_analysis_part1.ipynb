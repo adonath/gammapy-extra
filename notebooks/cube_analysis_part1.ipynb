{
 "cells": [
  {
   "cell_type": "markdown",
   "metadata": {
    "deletable": true,
    "editable": true
   },
   "source": [
    "# Cube analysis with Gammapy (part 1)\n",
    "\n",
    "## Introduction \n",
    "\n",
    "In order to run a cube likelihood analysis (spectral+morphology), you first have to compute a few things by stacking data from observation runs:\n",
    "* counts, background and exposure cube\n",
    "* mean PSF\n",
    "* mean RMF\n",
    "\n",
    "These are the inputs to the likelihood fitting step, where you assume a parameterised gamma-ray emission model and fit it to the stacked data.\n",
    "\n",
    "This notebook is part 1 of 2 of a tutorial how to use [gammapy.cube](http://docs.gammapy.org/en/latest/cube/index.html) to do cube analysis of IACT data. Part 1 is about these pre-computations, part 2 will be about the likelihood fitting.\n",
    "\n",
    "We will be using the following classes:\n",
    "* [gammapy.data.DataStore](http://docs.gammapy.org/en/latest/api/gammapy.data.DataStore.html) to load the data to stack in the cube\n",
    "* [gammapy.image.SkyMask](http://docs.gammapy.org/en/latest/api/gammapy.image.SkyMask.html) for computing the BKG model\n",
    "* [gammapy.cube.SkyCube](http://docs.gammapy.org/en/latest/api/gammapy.cube.SkyCube.html) and [gammapy.cube.StackedObsCubeMaker](http://docs.gammapy.org/en/latest/api/gammapy.cube.StackedObsCubeMaker.html) to stack the data in the Cube\n",
    "* [gammapy.data.ObservationList](http://docs.gammapy.org/en/latest/api/gammapy.data.ObservationList.html) to make the computation of the mean PSF and mean RMF from a set of runs.\n",
    "\n",
    "The data used in this tutorial is 4 Crab runs from H.E.S.S.."
   ]
  },
  {
   "cell_type": "markdown",
   "metadata": {
    "collapsed": true,
    "deletable": true,
    "editable": true
   },
   "source": [
    "## Setup\n",
    "\n",
    "As always, we start with some setup for the notebook, and with imports."
   ]
  },
  {
   "cell_type": "code",
   "execution_count": 1,
   "metadata": {
    "collapsed": true,
    "deletable": true,
    "editable": true
   },
   "outputs": [],
   "source": [
    "%matplotlib inline\n",
    "import matplotlib.pyplot as plt"
   ]
  },
  {
   "cell_type": "code",
   "execution_count": 2,
   "metadata": {
    "collapsed": false,
    "deletable": true,
    "editable": true
   },
   "outputs": [],
   "source": [
    "import numpy as np\n",
    "import astropy.units as u\n",
    "from astropy.coordinates import SkyCoord, Angle\n",
    "\n",
    "from gammapy.data import DataStore, ObservationList\n",
    "from gammapy.image import SkyMask\n",
    "from gammapy.cube import SkyCube, StackedObsCubeMaker\n",
    "from gammapy.utils.energy import Energy, EnergyBounds\n",
    "from gammapy.irf import TablePSF\n",
    "from gammapy.background import fill_acceptance_image"
   ]
  },
  {
   "cell_type": "markdown",
   "metadata": {
    "deletable": true,
    "editable": true
   },
   "source": [
    "## Data preparation\n",
    "\n",
    "### 1. Define wcs specification and energy binning "
   ]
  },
  {
   "cell_type": "code",
   "execution_count": 3,
   "metadata": {
    "collapsed": true,
    "deletable": true,
    "editable": true
   },
   "outputs": [],
   "source": [
    "# define WCS specification\n",
    "WCS_SPEC = {'nxpix': 50,\n",
    "            'nypix': 50,\n",
    "            'binsz': 0.05,\n",
    "            'xref': 83.63,\n",
    "            'yref': 22.01,\n",
    "            'proj': 'TAN',\n",
    "            'coordsys': 'CEL'}\n",
    "\n",
    "# define reconstructed energy binning\n",
    "ENERGY_SPEC = {'mode': 'edges',\n",
    "               'enumbins': 5,\n",
    "               'emin': 0.5,\n",
    "               'emax': 40,\n",
    "               'eunit': 'TeV'}\n",
    "\n",
    "# define true energy binning\n",
    "ENERGY_TRUE_SPEC = {'mode': 'edges',\n",
    "                    'enumbins': 20,\n",
    "                    'emin': 0.1,\n",
    "                    'emax': 100,\n",
    "                    'eunit': 'TeV'}\n",
    "\n",
    "# instanciate reference cube\n",
    "REF_CUBE = SkyCube.empty(**WCS_SPEC, **ENERGY_SPEC)\n",
    "REF_CUBE_TRUE = SkyCube.empty(**WCS_SPEC, **ENERGY_TRUE_SPEC)"
   ]
  },
  {
   "cell_type": "markdown",
   "metadata": {
    "deletable": true,
    "editable": true
   },
   "source": [
    "Load the data we will stack in the cube. Here we take the data from gammapy-extra with the 4 crab runs in which the hdu_table contains a link to a background model. We will define a Cube that is center on the Crab position extending to 0.5 degree around this position.\n",
    "\n",
    "You can for example take the dataset directory we juste created with the background_model.ipynb notebook with a hdu table that has a link for each run to the background models we just created with this notebook. You just have to replace the dataset_directory by cwd+\"/data\"."
   ]
  },
  {
   "cell_type": "code",
   "execution_count": 4,
   "metadata": {
    "collapsed": false,
    "deletable": true,
    "editable": true
   },
   "outputs": [],
   "source": [
    "# setting up the data store\n",
    "data_store = DataStore.from_dir(\"$GAMMAPY_EXTRA/test_datasets/cube/data\")\n",
    "\n",
    "# temporary fix for load psftable for one of the run that is not implemented yet...\n",
    "data_store.hdu_table.remove_row(14)"
   ]
  },
  {
   "cell_type": "markdown",
   "metadata": {
    "deletable": true,
    "editable": true
   },
   "source": [
    "You define the Cube in which you want to stack the data: center, (x,y) pixels and energy bins"
   ]
  },
  {
   "cell_type": "markdown",
   "metadata": {
    "deletable": true,
    "editable": true
   },
   "source": [
    "You define an exclusion mask that will be use to create the backgroud 2D map. The background map are normalized on the counts map outside the exclusion region"
   ]
  },
  {
   "cell_type": "code",
   "execution_count": 5,
   "metadata": {
    "collapsed": false,
    "deletable": true,
    "editable": true
   },
   "outputs": [
    {
     "data": {
      "image/png": "[encoded data removed]",
      "text/plain": [
       "<matplotlib.figure.Figure at 0x7fc1880cc198>"
      ]
     },
     "metadata": {},
     "output_type": "display_data"
    }
   ],
   "source": [
    "# read in TeVCat exclusion mask\n",
    "exclusion_mask = SkyMask.read('$GAMMAPY_EXTRA/datasets/exclusion_masks/tevcat_exclusion.fits')\n",
    "\n",
    "# reproject exclusion mask to reference cube\n",
    "exclusion_mask = exclusion_mask.reproject(reference=REF_CUBE.sky_image_ref, order='nearest-neighbor')\n",
    "\n",
    "exclusion_mask.show()"
   ]
  },
  {
   "cell_type": "code",
   "execution_count": 6,
   "metadata": {
    "collapsed": false
   },
   "outputs": [],
   "source": [
    "# write to file\n",
    "exclusion_mask.write('exclusion_mask.fits.gz', overwrite=True)"
   ]
  },
  {
   "cell_type": "markdown",
   "metadata": {
    "deletable": true,
    "editable": true
   },
   "source": [
    "Make and write the Cubes"
   ]
  },
  {
   "cell_type": "code",
   "execution_count": 7,
   "metadata": {
    "collapsed": false,
    "deletable": true,
    "editable": true
   },
   "outputs": [
    {
     "name": "stderr",
     "output_type": "stream",
     "text": [
      "WARNING: No safe energy thresholds found. Setting to default [gammapy.irf.psf_analytical]\n",
      "WARNING:astropy:No safe energy thresholds found. Setting to default\n",
      "WARNING:gammapy.irf.psf_king:No safe energy thresholds found. Setting to default\n",
      "WARNING: No safe energy thresholds found. Setting to default [gammapy.irf.psf_analytical]\n",
      "WARNING:astropy:No safe energy thresholds found. Setting to default\n",
      "WARNING:gammapy.irf.psf_king:No safe energy thresholds found. Setting to default\n"
     ]
    }
   ],
   "source": [
    "#Select the offset band on which you want to select the events in the FOV of each observation\n",
    "offset_band = Angle([0, 2.49], 'deg')\n",
    "\n",
    "# instanciate StackedObsCubeMaker\n",
    "cube_maker = StackedObsCubeMaker(\n",
    "    empty_cube_images=REF_CUBE,\n",
    "    empty_exposure_cube=REF_CUBE,\n",
    "    offset_band=offset_band,\n",
    "    data_store=data_store,\n",
    "    obs_table=data_store.obs_table,\n",
    "    exclusion_mask=exclusion_mask,\n",
    "    save_bkg_scale=True,\n",
    ")\n",
    "\n",
    "# run cube makeer\n",
    "cube_maker.make_cubes(make_background_image=True, radius=4.)"
   ]
  },
  {
   "cell_type": "markdown",
   "metadata": {
    "deletable": true,
    "editable": true
   },
   "source": [
    "### Some Cube images"
   ]
  },
  {
   "cell_type": "code",
   "execution_count": 8,
   "metadata": {
    "collapsed": false,
    "deletable": true,
    "editable": true
   },
   "outputs": [
    {
     "name": "stdout",
     "output_type": "stream",
     "text": [
      "Bin edges of the count cubes: \n",
      "[  0.5          1.20112443   2.88539981   6.93144843  16.65106415  40.        ] TeV\n"
     ]
    }
   ],
   "source": [
    "# get counts cube\n",
    "counts = cube_maker.counts_cube\n",
    "\n",
    "energies = counts.energies(mode=\"edges\")\n",
    "print(\"Bin edges of the count cubes: \\n{0}\".format(energies))"
   ]
  },
  {
   "cell_type": "code",
   "execution_count": 9,
   "metadata": {
    "collapsed": false,
    "deletable": true,
    "editable": true
   },
   "outputs": [
    {
     "data": {
      "image/png": "[encoded data removed]",
      "text/plain": [
       "<matplotlib.figure.Figure at 0x7fc188045da0>"
      ]
     },
     "metadata": {},
     "output_type": "display_data"
    },
    {
     "name": "stdout",
     "output_type": "stream",
     "text": [
      "Energy range: 0.50 TeV to 1.20 TeV\n"
     ]
    }
   ],
   "source": [
    "# show counts image with idx = 0\n",
    "idx = 0\n",
    "counts.sky_image_idx(idx=idx).show()\n",
    "print('Energy range: {emin:.2f} to {emax:.2f}'.format(emin=energies[idx], emax=energies[idx + 1]))"
   ]
  },
  {
   "cell_type": "code",
   "execution_count": 10,
   "metadata": {
    "collapsed": false,
    "deletable": true,
    "editable": true
   },
   "outputs": [
    {
     "data": {
      "image/png": "[encoded data removed]",
      "text/plain": [
       "<matplotlib.figure.Figure at 0x7fc187daca58>"
      ]
     },
     "metadata": {},
     "output_type": "display_data"
    },
    {
     "name": "stdout",
     "output_type": "stream",
     "text": [
      "Energy range: 6.93 TeV to 16.65 TeV\n"
     ]
    }
   ],
   "source": [
    "idx = 3\n",
    "counts.sky_image_idx(idx=idx).show()\n",
    "print('Energy range: {emin:.2f} to {emax:.2f}'.format(emin=energies[idx], emax=energies[idx + 1]))"
   ]
  },
  {
   "cell_type": "code",
   "execution_count": 11,
   "metadata": {
    "collapsed": true
   },
   "outputs": [],
   "source": [
    "counts.write('counts_cube.fits.gz', overwrite=True)"
   ]
  },
  {
   "cell_type": "code",
   "execution_count": 12,
   "metadata": {
    "collapsed": false,
    "deletable": true,
    "editable": true
   },
   "outputs": [
    {
     "data": {
      "image/png": "[encoded data removed]",
      "text/plain": [
       "<matplotlib.figure.Figure at 0x7fc187dc9550>"
      ]
     },
     "metadata": {},
     "output_type": "display_data"
    },
    {
     "name": "stdout",
     "output_type": "stream",
     "text": [
      "Energy range: 0.50 TeV to 1.20 TeV\n"
     ]
    }
   ],
   "source": [
    "background = cube_maker.bkg_cube\n",
    "\n",
    "idx = 0\n",
    "background.sky_image_idx(idx=idx).show()\n",
    "print('Energy range: {emin:.2f} to {emax:.2f}'.format(emin=energies[idx], emax=energies[idx + 1]))"
   ]
  },
  {
   "cell_type": "code",
   "execution_count": 13,
   "metadata": {
    "collapsed": true
   },
   "outputs": [],
   "source": [
    "background.write('background_cube.fits.gz', overwrite=True)"
   ]
  },
  {
   "cell_type": "code",
   "execution_count": 14,
   "metadata": {
    "collapsed": false,
    "deletable": true,
    "editable": true
   },
   "outputs": [
    {
     "data": {
      "image/png": "[encoded data removed]",
      "text/plain": [
       "<matplotlib.figure.Figure at 0x7fc187d13208>"
      ]
     },
     "metadata": {},
     "output_type": "display_data"
    },
    {
     "name": "stdout",
     "output_type": "stream",
     "text": [
      "Energy range: 0.50 TeV to 1.20 TeV\n"
     ]
    }
   ],
   "source": [
    "excess = cube_maker.excess_cube\n",
    "\n",
    "idx = 0\n",
    "excess.sky_image_idx(idx=idx).show()\n",
    "print('Energy range: {emin:.2f} to {emax:.2f}'.format(emin=energies[idx], emax=energies[idx + 1]))"
   ]
  },
  {
   "cell_type": "code",
   "execution_count": 15,
   "metadata": {
    "collapsed": true
   },
   "outputs": [],
   "source": [
    "excess.write('excess_cube.fits.gz', overwrite=True)"
   ]
  },
  {
   "cell_type": "code",
   "execution_count": 16,
   "metadata": {
    "collapsed": false,
    "deletable": true,
    "editable": true
   },
   "outputs": [
    {
     "data": {
      "image/png": "[encoded data removed]",
      "text/plain": [
       "<matplotlib.figure.Figure at 0x7fc187cfe358>"
      ]
     },
     "metadata": {},
     "output_type": "display_data"
    },
    {
     "name": "stdout",
     "output_type": "stream",
     "text": [
      "Energy range: 0.50 TeV to 1.20 TeV\n"
     ]
    }
   ],
   "source": [
    "significance = cube_maker.significance_cube\n",
    "\n",
    "idx = 0\n",
    "significance.sky_image_idx(idx=idx).show()\n",
    "print('Energy range: {emin:.2f} to {emax:.2f}'.format(emin=energies[idx], emax=energies[idx + 1]))"
   ]
  },
  {
   "cell_type": "code",
   "execution_count": 17,
   "metadata": {
    "collapsed": true
   },
   "outputs": [],
   "source": [
    "significance.write('significance_cube.fits.gz', overwrite=True)"
   ]
  },
  {
   "cell_type": "code",
   "execution_count": 18,
   "metadata": {
    "collapsed": false,
    "deletable": true,
    "editable": true
   },
   "outputs": [
    {
     "data": {
      "image/png": "[encoded data removed]",
      "text/plain": [
       "<matplotlib.figure.Figure at 0x7fc187c07710>"
      ]
     },
     "metadata": {},
     "output_type": "display_data"
    },
    {
     "name": "stdout",
     "output_type": "stream",
     "text": [
      "Energy range: 0.50 TeV to 1.20 TeV\n"
     ]
    }
   ],
   "source": [
    "exposure = cube_maker.exposure_cube\n",
    "\n",
    "idx = 0\n",
    "exposure.sky_image_idx(idx=idx).show()\n",
    "print('Energy range: {emin:.2f} to {emax:.2f}'.format(emin=energies[idx], emax=energies[idx + 1]))"
   ]
  },
  {
   "cell_type": "code",
   "execution_count": 19,
   "metadata": {
    "collapsed": true
   },
   "outputs": [],
   "source": [
    "exposure.write('exposure_cube.fits.gz', overwrite=True)"
   ]
  },
  {
   "cell_type": "markdown",
   "metadata": {
    "deletable": true,
    "editable": true
   },
   "source": [
    "### Compute mean psf from a list of observations"
   ]
  },
  {
   "cell_type": "markdown",
   "metadata": {
    "deletable": true,
    "editable": true
   },
   "source": [
    "Make the mean PSF and write it"
   ]
  },
  {
   "cell_type": "code",
   "execution_count": 20,
   "metadata": {
    "collapsed": false
   },
   "outputs": [
    {
     "name": "stderr",
     "output_type": "stream",
     "text": [
      "WARNING: No safe energy thresholds found. Setting to default [gammapy.irf.psf_analytical]\n",
      "WARNING:astropy:No safe energy thresholds found. Setting to default\n",
      "/home/hfm/adonath/Software/Repositories/gammapy/gammapy/image/models/gauss.py:254: RuntimeWarning: invalid value encountered in true_divide\n",
      "  self.norms /= self.integral\n",
      "WARNING:gammapy.irf.psf_king:No safe energy thresholds found. Setting to default\n",
      "/home/hfm/adonath/Software/Applications/anaconda3.5/lib/python3.5/site-packages/astropy/units/quantity.py:968: RuntimeWarning: divide by zero encountered in true_divide\n",
      "  return super(Quantity, self).__rtruediv__(other)\n",
      "/home/hfm/adonath/Software/Applications/anaconda3.5/lib/python3.5/site-packages/astropy/units/quantity.py:951: RuntimeWarning: divide by zero encountered in true_divide\n",
      "  return super(Quantity, self).__truediv__(other)\n",
      "/home/hfm/adonath/Software/Applications/anaconda3.5/lib/python3.5/site-packages/astropy/units/quantity.py:951: RuntimeWarning: invalid value encountered in true_divide\n",
      "  return super(Quantity, self).__truediv__(other)\n",
      "WARNING: No safe energy thresholds found. Setting to default [gammapy.irf.psf_analytical]\n",
      "WARNING:astropy:No safe energy thresholds found. Setting to default\n",
      "WARNING:gammapy.irf.psf_king:No safe energy thresholds found. Setting to default\n"
     ]
    }
   ],
   "source": [
    "mean_psf_cube = cube_maker.make_mean_psf_cube(REF_CUBE)"
   ]
  },
  {
   "cell_type": "code",
   "execution_count": 21,
   "metadata": {
    "collapsed": false,
    "deletable": true,
    "editable": true
   },
   "outputs": [
    {
     "name": "stdout",
     "output_type": "stream",
     "text": [
      "PSF image in the energy band: 6.93-16.65 TeV\n"
     ]
    },
    {
     "data": {
      "text/plain": [
       "<matplotlib.colorbar.Colorbar at 0x7fc187ff0b70>"
      ]
     },
     "execution_count": 21,
     "metadata": {},
     "output_type": "execute_result"
    },
    {
     "data": {
      "image/png": "[encoded data removed]",
      "text/plain": [
       "<matplotlib.figure.Figure at 0x7fc187e4e588>"
      ]
     },
     "metadata": {},
     "output_type": "display_data"
    }
   ],
   "source": [
    "energies=mean_psf_cube.energies(mode=\"edges\")\n",
    "print(\"PSF image in the energy band: \"+str(\"%.2f\"%energies[3].value)+\"-\"+str(\"%.2f\"%energies[4].value)+\" TeV\")\n",
    "plt.figure()\n",
    "plt.imshow(mean_psf_cube.data[3,:,:],interpolation='None')\n",
    "plt.colorbar()"
   ]
  },
  {
   "cell_type": "markdown",
   "metadata": {
    "deletable": true,
    "editable": true
   },
   "source": [
    "## Make the cube analysis assuming a true energy different than the reconstructed energy"
   ]
  },
  {
   "cell_type": "code",
   "execution_count": 22,
   "metadata": {
    "collapsed": false,
    "deletable": true,
    "editable": true
   },
   "outputs": [
    {
     "name": "stderr",
     "output_type": "stream",
     "text": [
      "WARNING: No safe energy thresholds found. Setting to default [gammapy.irf.psf_analytical]\n",
      "WARNING:astropy:No safe energy thresholds found. Setting to default\n",
      "WARNING:gammapy.irf.psf_king:No safe energy thresholds found. Setting to default\n",
      "WARNING: No safe energy thresholds found. Setting to default [gammapy.irf.psf_analytical]\n",
      "WARNING:astropy:No safe energy thresholds found. Setting to default\n",
      "WARNING:gammapy.irf.psf_king:No safe energy thresholds found. Setting to default\n"
     ]
    },
    {
     "ename": "NameError",
     "evalue": "name 'make_mean_psf_cube' is not defined",
     "output_type": "error",
     "traceback": [
      "\u001b[1;31m---------------------------------------------------------------------------\u001b[0m",
      "\u001b[1;31mNameError\u001b[0m                                 Traceback (most recent call last)",
      "\u001b[1;32m<ipython-input-22-682265e982d3>\u001b[0m in \u001b[0;36m<module>\u001b[1;34m()\u001b[0m\n\u001b[0;32m     12\u001b[0m \u001b[1;33m\u001b[0m\u001b[0m\n\u001b[0;32m     13\u001b[0m \u001b[1;31m#The PSF cube is now calculated in true energie\u001b[0m\u001b[1;33m\u001b[0m\u001b[1;33m\u001b[0m\u001b[0m\n\u001b[1;32m---> 14\u001b[1;33m mean_psf_cube = make_mean_psf_cube(image_size=50, energy_cube=etrue, center_maps=center, center=center,\n\u001b[0m\u001b[0;32m     15\u001b[0m                                    \u001b[0mObsList\u001b[0m\u001b[1;33m=\u001b[0m\u001b[0mObsList\u001b[0m\u001b[1;33m,\u001b[0m\u001b[1;33m\u001b[0m\u001b[0m\n\u001b[0;32m     16\u001b[0m                                    spectral_index=2.3)\n",
      "\u001b[1;31mNameError\u001b[0m: name 'make_mean_psf_cube' is not defined"
     ]
    }
   ],
   "source": [
    "cube_maker = StackedObsCubeMaker(empty_cube_images=REF_CUBE,\n",
    "                                 empty_exposure_cube=REF_CUBE_TRUE,\n",
    "                                 offset_band=offset_band,\n",
    "                                 data_store=data_store,\n",
    "                                 obs_table=data_store.obs_table,\n",
    "                                 exclusion_mask=exclusion_mask,\n",
    "                                 save_bkg_scale=True)\n",
    "cube_maker.make_cubes(make_background_image=True, radius=10.)\n",
    "\n",
    "obslist = [data_store.obs(id) for id in data_store.obs_table[\"OBS_ID\"]]\n",
    "ObsList = ObservationList(obslist)\n",
    "\n",
    "#The PSF cube is now calculated in true energie\n",
    "mean_psf_cube = make_mean_psf_cube(image_size=50, energy_cube=etrue, center_maps=center, center=center,\n",
    "                                   ObsList=ObsList,\n",
    "                                   spectral_index=2.3)\n",
    "\n",
    "\n",
    "filename_mask = 'exclusion_mask.fits'\n",
    "filename_counts = 'counts_cube.fits'\n",
    "filename_bkg = 'bkg_cube.fits'\n",
    "filename_significance = 'significance_cube.fits'\n",
    "filename_excess = 'excess_cube.fits'\n",
    "filename_exposure = 'exposure_cube_etrue.fits'\n",
    "filename_psf = 'psf_cube_etrue.fits'\n",
    "\n",
    "exclusion_mask.write(filename_mask, clobber=True)\n",
    "cube_maker.counts_cube.write(filename_counts, format=\"fermi-counts\", clobber=True)\n",
    "cube_maker.bkg_cube.write(filename_bkg, format=\"fermi-counts\", clobber=True)\n",
    "cube_maker.significance_cube.write(filename_significance, format=\"fermi-counts\", clobber=True)\n",
    "cube_maker.excess_cube.write(filename_excess, format=\"fermi-counts\", clobber=True)\n",
    "cube_maker.exposure_cube.write(filename_exposure, format=\"fermi-counts\", clobber=True)\n",
    "mean_psf_cube.write(filename_psf, format=\"fermi-counts\", clobber=True)\n",
    "\n"
   ]
  },
  {
   "cell_type": "code",
   "execution_count": null,
   "metadata": {
    "collapsed": false,
    "deletable": true,
    "editable": true
   },
   "outputs": [],
   "source": [
    "counts_energies=cube_maker.counts_cube.energies(mode=\"edges\")\n",
    "print(\"the bin edges of the count cubes \", counts_energies)\n",
    "print(\"\")\n",
    "true_energies=cube_maker.exposure_cube.energies(mode=\"edges\")\n",
    "print(\"the bin edges of the exposure cubes \", true_energies)\n",
    "print(\"\")"
   ]
  },
  {
   "cell_type": "markdown",
   "metadata": {
    "deletable": true,
    "editable": true
   },
   "source": [
    "### Compute mean RMF for a list of observations"
   ]
  },
  {
   "cell_type": "code",
   "execution_count": null,
   "metadata": {
    "collapsed": false,
    "deletable": true,
    "editable": true
   },
   "outputs": [],
   "source": [
    "# get reference energies\n",
    "e_true = REF_CUBE_TRUE.energies('edges')\n",
    "e_reco = REF_CUBE.energies('edges')\n",
    "\n",
    "mean_rmf = obs_list.make_mean_edisp(position=position, e_true=e_true, e_reco=e_reco)"
   ]
  },
  {
   "cell_type": "code",
   "execution_count": null,
   "metadata": {
    "collapsed": false,
    "deletable": true,
    "editable": true
   },
   "outputs": [],
   "source": [
    "mean_rmf.plot_matrix()"
   ]
  },
  {
   "cell_type": "code",
   "execution_count": null,
   "metadata": {
    "collapsed": false
   },
   "outputs": [],
   "source": [
    "# write to file\n",
    "mean_rmf.write('rmf.fits.gz', overwrite=True)"
   ]
  },
  {
   "cell_type": "markdown",
   "metadata": {
    "deletable": true,
    "editable": true
   },
   "source": [
    "## Exercises\n",
    "- Take another dataset\n",
    "- Change the Cube binning"
   ]
  },
  {
   "cell_type": "markdown",
   "metadata": {
    "collapsed": true,
    "deletable": true,
    "editable": true
   },
   "source": [
    "Now that we created some cubes for counts, background, exposure, psf from a set of runs we will learn in the future tutorials how to use it for a 3D analysis (morphological and spectral)"
   ]
  },
  {
   "cell_type": "code",
   "execution_count": null,
   "metadata": {
    "collapsed": true,
    "deletable": true,
    "editable": true
   },
   "outputs": [],
   "source": []
  }
 ],
 "metadata": {
  "kernelspec": {
   "display_name": "Python 3",
   "language": "python",
   "name": "python3"
  },
  "language_info": {
   "codemirror_mode": {
    "name": "ipython",
    "version": 3
   },
   "file_extension": ".py",
   "mimetype": "text/x-python",
   "name": "python",
   "nbconvert_exporter": "python",
   "pygments_lexer": "ipython3",
   "version": "3.5.2"
  }
 },
 "nbformat": 4,
 "nbformat_minor": 2
}
