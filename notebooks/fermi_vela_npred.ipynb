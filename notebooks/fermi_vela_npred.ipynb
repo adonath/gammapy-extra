{
 "cells": [
  {
   "cell_type": "code",
   "execution_count": 1,
   "metadata": {
    "collapsed": true
   },
   "outputs": [],
   "source": [
    "%matplotlib inline\n",
    "import numpy as np\n",
    "import matplotlib.pyplot as plt"
   ]
  },
  {
   "cell_type": "code",
   "execution_count": 2,
   "metadata": {
    "collapsed": true
   },
   "outputs": [],
   "source": [
    "from gammapy.cube import SkyCube, compute_npred_cube\n",
    "from gammapy.image import SkyImage\n",
    "from gammapy.datasets import FermiVelaRegion\n",
    "from gammapy.utils.energy import EnergyBounds\n",
    "from gammapy.irf import EnergyDependentTablePSF\n",
    "from astropy.io import fits"
   ]
  },
  {
   "cell_type": "code",
   "execution_count": 3,
   "metadata": {
    "collapsed": false
   },
   "outputs": [],
   "source": [
    "fermi_vela = FermiVelaRegion()\n",
    "background_file = FermiVelaRegion.filenames()['diffuse_model']\n",
    "exposure_file = FermiVelaRegion.filenames()['exposure_cube']\n",
    "counts_file = FermiVelaRegion.filenames()['counts_cube']\n",
    "background_model = SkyCube.read(background_file, format='fermi-background')\n",
    "exposure_cube = SkyCube.read(exposure_file, format='fermi-exposure')\n",
    "\n",
    "# Re-project background cube\n",
    "repro_bg_cube = background_model.reproject(exposure_cube)\n",
    "\n",
    "# Define energy band required for output\n",
    "energies = EnergyBounds([10, 500], 'GeV')\n",
    "\n",
    "# Compute the predicted counts cube\n",
    "npred_cube = compute_npred_cube(repro_bg_cube, exposure_cube, energies, integral_resolution=5)\n",
    "\n",
    "# Convolve with Energy-dependent Fermi LAT PSF\n",
    "psf = EnergyDependentTablePSF.read(FermiVelaRegion.filenames()['psf'])\n",
    "kernels = psf.kernels(npred_cube)\n",
    "convolved_npred_cube = npred_cube.convolve(kernels)\n",
    "\n",
    "# Counts data\n",
    "counts_cube = SkyCube.read(counts_file, format='fermi-counts')\n",
    "counts_cube = counts_cube.reproject(npred_cube)\n",
    "\n",
    "counts = counts_cube.data[0]\n",
    "model = convolved_npred_cube.data[0]\n",
    "\n",
    "# Load Fermi tools gtmodel background-only result\n",
    "gtmodel = SkyImage.read(FermiVelaRegion.filenames()['background_image'])\n",
    "\n",
    "# Ratio for the two background images\n",
    "ratio = np.nan_to_num(model / gtmodel)\n",
    "\n",
    "# Header is required for plotting, so returned here\n",
    "wcs = npred_cube.wcs\n",
    "header = wcs.to_header()\n"
   ]
  },
  {
   "cell_type": "code",
   "execution_count": 4,
   "metadata": {
    "collapsed": false
   },
   "outputs": [
    {
     "data": {
      "text/plain": [
       "264.54388"
      ]
     },
     "execution_count": 4,
     "metadata": {},
     "output_type": "execute_result"
    }
   ],
   "source": [
    "np.sum(gtmodel)"
   ]
  },
  {
   "cell_type": "code",
   "execution_count": 5,
   "metadata": {
    "collapsed": false
   },
   "outputs": [
    {
     "data": {
      "text/plain": [
       "264.47373389704643"
      ]
     },
     "execution_count": 5,
     "metadata": {},
     "output_type": "execute_result"
    }
   ],
   "source": [
    "np.sum(convolved_npred_cube.data)"
   ]
  },
  {
   "cell_type": "code",
   "execution_count": null,
   "metadata": {
    "collapsed": true
   },
   "outputs": [],
   "source": []
  }
 ],
 "metadata": {
  "kernelspec": {
   "display_name": "Python 2",
   "language": "python",
   "name": "python2"
  },
  "language_info": {
   "codemirror_mode": {
    "name": "ipython",
    "version": 2
   },
   "file_extension": ".py",
   "mimetype": "text/x-python",
   "name": "python",
   "nbconvert_exporter": "python",
   "pygments_lexer": "ipython2",
   "version": "2.7.6"
  }
 },
 "nbformat": 4,
 "nbformat_minor": 0
}
